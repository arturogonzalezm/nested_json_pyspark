{
 "cells": [
  {
   "metadata": {},
   "cell_type": "markdown",
   "source": "# ETL",
   "id": "1642d71855ec028e"
  },
  {
   "metadata": {},
   "cell_type": "markdown",
   "source": "### Importing the required libraries",
   "id": "edc1b64d905deba6"
  },
  {
   "metadata": {
    "ExecuteTime": {
     "end_time": "2024-05-16T02:28:48.449455Z",
     "start_time": "2024-05-16T02:28:48.447463Z"
    }
   },
   "cell_type": "code",
   "source": [
    "from pyspark.sql import SparkSession\n",
    "from pyspark.sql.functions import col, explode, collect_set, flatten, array_distinct"
   ],
   "id": "initial_id",
   "outputs": [],
   "execution_count": 4
  },
  {
   "metadata": {},
   "cell_type": "markdown",
   "source": "### Defining the input and output file paths",
   "id": "8499ce81053e3fa8"
  },
  {
   "metadata": {
    "ExecuteTime": {
     "end_time": "2024-05-16T02:28:49.954550Z",
     "start_time": "2024-05-16T02:28:49.952955Z"
    }
   },
   "cell_type": "code",
   "source": [
    "INPUT_FILE = '../data/people.json'\n",
    "OUTPUT_FILE = '../data/people.parquet'"
   ],
   "id": "458a170be6e1dcd6",
   "outputs": [],
   "execution_count": 5
  },
  {
   "metadata": {},
   "cell_type": "markdown",
   "source": "### Creating a Spark session",
   "id": "afd1c1705791ea3c"
  },
  {
   "metadata": {
    "ExecuteTime": {
     "end_time": "2024-05-16T02:28:52.024852Z",
     "start_time": "2024-05-16T02:28:51.672841Z"
    }
   },
   "cell_type": "code",
   "source": [
    "spark = SparkSession.builder.appName(\"ETL\").getOrCreate()\n",
    "spark.sparkContext.setLogLevel(\"ERROR\")"
   ],
   "id": "6f6cb3f5ab2d6636",
   "outputs": [],
   "execution_count": 6
  },
  {
   "metadata": {},
   "cell_type": "markdown",
   "source": [
    "### Reading the JSON file\n",
    "\n",
    "##### **multiLine=True** is used to read the JSON file with multiple lines to avoid the **_corrupted_record** error."
   ],
   "id": "28e207c54f65dcbe"
  },
  {
   "metadata": {
    "ExecuteTime": {
     "end_time": "2024-05-16T02:28:57.105447Z",
     "start_time": "2024-05-16T02:28:56.284672Z"
    }
   },
   "cell_type": "code",
   "source": [
    "extract_df = spark.read.json(INPUT_FILE, multiLine=True)\n",
    "extract_df.printSchema()"
   ],
   "id": "b25480bbf12c2a73",
   "outputs": [
    {
     "name": "stdout",
     "output_type": "stream",
     "text": [
      "root\n",
      " |-- age: long (nullable = true)\n",
      " |-- city: string (nullable = true)\n",
      " |-- friends: array (nullable = true)\n",
      " |    |-- element: struct (containsNull = true)\n",
      " |    |    |-- hobbies: array (nullable = true)\n",
      " |    |    |    |-- element: string (containsNull = true)\n",
      " |    |    |-- name: string (nullable = true)\n",
      " |-- id: long (nullable = true)\n",
      " |-- name: string (nullable = true)\n",
      "\n"
     ]
    }
   ],
   "execution_count": 7
  },
  {
   "metadata": {
    "ExecuteTime": {
     "end_time": "2024-05-16T02:28:58.813341Z",
     "start_time": "2024-05-16T02:28:58.004118Z"
    }
   },
   "cell_type": "code",
   "source": "extract_df.show(truncate=True)",
   "id": "80cda4236a5bd84f",
   "outputs": [
    {
     "name": "stdout",
     "output_type": "stream",
     "text": [
      "+---+----------+--------------------+---+--------+\n",
      "|age|      city|             friends| id|    name|\n",
      "+---+----------+--------------------+---+--------+\n",
      "| 78|    Sydney|[{[Watching Sport...|  0|  Elijah|\n",
      "| 97| Melbourne|[{[Watching Sport...|  1|    Noah|\n",
      "| 48|  Adelaide|[{[Reading, Volun...|  2|     Evy|\n",
      "| 39|     Perth|[{[Watching Sport...|  3|  Oliver|\n",
      "| 95|     Perth|[{[Movie Watching...|  4| Michael|\n",
      "| 19|  Brisbane|[{[Painting, Tele...|  5| Michael|\n",
      "| 76|    Sydney|[{[Genealogy, Coo...|  6|   Lucas|\n",
      "| 25|    Hobart|[{[Music, Golf], ...|  7|Michelle|\n",
      "| 61|    Sydney|[{[Bicycling, Ski...|  8|   Emily|\n",
      "| 33|Launceston|[{[Traveling, Bic...|  9|    Liam|\n",
      "+---+----------+--------------------+---+--------+\n",
      "\n"
     ]
    }
   ],
   "execution_count": 8
  },
  {
   "metadata": {},
   "cell_type": "markdown",
   "source": "### Exploding the friends column",
   "id": "f9067544d9ad1b49"
  },
  {
   "metadata": {
    "ExecuteTime": {
     "end_time": "2024-05-16T02:29:00.767281Z",
     "start_time": "2024-05-16T02:29:00.734040Z"
    }
   },
   "cell_type": "code",
   "source": [
    "explode_df = extract_df.withColumn('friends', explode(col('friends')))\n",
    "explode_df.printSchema()"
   ],
   "id": "1430197076dfdde6",
   "outputs": [
    {
     "name": "stdout",
     "output_type": "stream",
     "text": [
      "root\n",
      " |-- age: long (nullable = true)\n",
      " |-- city: string (nullable = true)\n",
      " |-- friends: struct (nullable = true)\n",
      " |    |-- hobbies: array (nullable = true)\n",
      " |    |    |-- element: string (containsNull = true)\n",
      " |    |-- name: string (nullable = true)\n",
      " |-- id: long (nullable = true)\n",
      " |-- name: string (nullable = true)\n",
      "\n"
     ]
    }
   ],
   "execution_count": 9
  },
  {
   "metadata": {
    "ExecuteTime": {
     "end_time": "2024-05-16T02:29:01.969827Z",
     "start_time": "2024-05-16T02:29:01.845165Z"
    }
   },
   "cell_type": "code",
   "source": "explode_df.show(truncate=False)",
   "id": "7c20700a383d3a24",
   "outputs": [
    {
     "name": "stdout",
     "output_type": "stream",
     "text": [
      "+---+---------+--------------------------------------------------------------+---+-------+\n",
      "|age|city     |friends                                                       |id |name   |\n",
      "+---+---------+--------------------------------------------------------------+---+-------+\n",
      "|78 |Sydney   |{[Watching Sports, Reading, Skiing & Snowboarding], Michelle} |0  |Elijah |\n",
      "|78 |Sydney   |{[Traveling, Video Games], Robert}                            |0  |Elijah |\n",
      "|97 |Melbourne|{[Watching Sports, Skiing & Snowboarding, Collecting], Oliver}|1  |Noah   |\n",
      "|97 |Melbourne|{[Running, Music, Woodworking], Olivia}                       |1  |Noah   |\n",
      "|97 |Melbourne|{[Woodworking, Calligraphy, Genealogy], Robert}               |1  |Noah   |\n",
      "|97 |Melbourne|{[Walking, Church Activities], Ava}                           |1  |Noah   |\n",
      "|97 |Melbourne|{[Music, Church Activities], Michael}                         |1  |Noah   |\n",
      "|97 |Melbourne|{[Martial Arts, Painting, Jewelry Making], Michael}           |1  |Noah   |\n",
      "|48 |Adelaide |{[Reading, Volunteer Work], Joe}                              |2  |Evy    |\n",
      "|48 |Adelaide |{[Genealogy, Golf], Joe}                                      |2  |Evy    |\n",
      "|48 |Adelaide |{[Collecting, Writing, Bicycling], Oliver}                    |2  |Evy    |\n",
      "|48 |Adelaide |{[Church Activities, Jewelry Making], Liam}                   |2  |Evy    |\n",
      "|48 |Adelaide |{[Calligraphy, Dancing], Amelia}                              |2  |Evy    |\n",
      "|39 |Perth    |{[Watching Sports, Gardening], Mateo}                         |3  |Oliver |\n",
      "|39 |Perth    |{[Traveling, Team Sports], Nora}                              |3  |Oliver |\n",
      "|39 |Perth    |{[Church Activities, Running], Ava}                           |3  |Oliver |\n",
      "|39 |Perth    |{[Gardening, Board Games, Watching Sports], Amelia}           |3  |Oliver |\n",
      "|39 |Perth    |{[Martial Arts, Video Games, Reading], Leo}                   |3  |Oliver |\n",
      "|95 |Perth    |{[Movie Watching, Collecting], Mateo}                         |4  |Michael|\n",
      "|95 |Perth    |{[Housework, Bicycling, Collecting], Chris}                   |4  |Michael|\n",
      "+---+---------+--------------------------------------------------------------+---+-------+\n",
      "only showing top 20 rows\n",
      "\n"
     ]
    }
   ],
   "execution_count": 10
  },
  {
   "metadata": {},
   "cell_type": "markdown",
   "source": [
    "### Flattening the friends column\n",
    "\n",
    "##### 1. **collect_set** collects unique values of the friends' names and hobbies, including fields within arrays.\n",
    "##### 2. **flatten** combines the friends' hobbies arrays into a single array.\n",
    "##### 3. **array_distinct** removes duplicate values from the friends' hobbies array.\n"
   ],
   "id": "28df3950e3aec3d"
  },
  {
   "metadata": {
    "ExecuteTime": {
     "end_time": "2024-05-16T02:29:04.197186Z",
     "start_time": "2024-05-16T02:29:04.164370Z"
    }
   },
   "cell_type": "code",
   "source": [
    "flatten_df = explode_df.groupby('id', 'name', 'age', 'city').agg(collect_set('friends.name').alias('friends_name'), array_distinct(flatten(collect_set('friends.hobbies'))).alias('friends_hobbies'))\n",
    "flatten_df.printSchema()"
   ],
   "id": "a5407659b67f4467",
   "outputs": [
    {
     "name": "stdout",
     "output_type": "stream",
     "text": [
      "root\n",
      " |-- id: long (nullable = true)\n",
      " |-- name: string (nullable = true)\n",
      " |-- age: long (nullable = true)\n",
      " |-- city: string (nullable = true)\n",
      " |-- friends_name: array (nullable = false)\n",
      " |    |-- element: string (containsNull = false)\n",
      " |-- friends_hobbies: array (nullable = false)\n",
      " |    |-- element: string (containsNull = true)\n",
      "\n"
     ]
    }
   ],
   "execution_count": 11
  },
  {
   "metadata": {
    "ExecuteTime": {
     "end_time": "2024-05-16T02:29:05.530475Z",
     "start_time": "2024-05-16T02:29:05.189288Z"
    }
   },
   "cell_type": "code",
   "source": "flatten_df.show(truncate=False)",
   "id": "442a3f15795b46a2",
   "outputs": [
    {
     "name": "stdout",
     "output_type": "stream",
     "text": [
      "+---+--------+---+----------+--------------------------------------+-----------------------------------------------------------------------------------------------------------------------------------------------------------------------------+\n",
      "|id |name    |age|city      |friends_name                          |friends_hobbies                                                                                                                                                              |\n",
      "+---+--------+---+----------+--------------------------------------+-----------------------------------------------------------------------------------------------------------------------------------------------------------------------------+\n",
      "|6  |Lucas   |76 |Sydney    |[John]                                |[Genealogy, Cooking, Socializing, Yoga]                                                                                                                                      |\n",
      "|1  |Noah    |97 |Melbourne |[Robert, Michael, Ava, Olivia, Oliver]|[Walking, Church Activities, Watching Sports, Skiing & Snowboarding, Collecting, Martial Arts, Painting, Jewelry Making, Running, Music, Woodworking, Calligraphy, Genealogy]|\n",
      "|5  |Michael |19 |Brisbane  |[Jack, Oliver, Elijah, Charlotte]     |[Podcasts, Jewelry Making, Painting, Television, Walking, Watching Sports, Movie Watching, Eating Out]                                                                       |\n",
      "|8  |Emily   |61 |Sydney    |[Zoey, Amelia, Ava, Nora, Daniel]     |[Bicycling, Skiing & Snowboarding, Watching Sports, Martial Arts, Writing, Board Games, Tennis, Eating Out, Reading, Collecting]                                             |\n",
      "|2  |Evy     |48 |Adelaide  |[Liam, Joe, Amelia, Oliver]           |[Church Activities, Jewelry Making, Reading, Volunteer Work, Genealogy, Golf, Collecting, Writing, Bicycling, Calligraphy, Dancing]                                          |\n",
      "|0  |Elijah  |78 |Sydney    |[Robert, Michelle]                    |[Watching Sports, Reading, Skiing & Snowboarding, Traveling, Video Games]                                                                                                    |\n",
      "|3  |Oliver  |39 |Perth     |[Amelia, Ava, Nora, Leo, Mateo]       |[Church Activities, Running, Martial Arts, Video Games, Reading, Traveling, Team Sports, Gardening, Board Games, Watching Sports]                                            |\n",
      "|9  |Liam    |33 |Launceston|[Evy, Chloe, Grace]                   |[Jewelry Making, Yoga, Podcasts, Eating Out, Watching Sports, Traveling, Bicycling, Shopping]                                                                                |\n",
      "|7  |Michelle|25 |Hobart    |[Robert, Jack, Mia, Nora, Daniel]     |[Painting, Church Activities, Music, Golf, Socializing, Housework, Walking, Running, Collecting]                                                                             |\n",
      "|4  |Michael |95 |Perth     |[Chris, Mateo]                        |[Movie Watching, Collecting, Housework, Bicycling]                                                                                                                           |\n",
      "+---+--------+---+----------+--------------------------------------+-----------------------------------------------------------------------------------------------------------------------------------------------------------------------------+\n",
      "\n"
     ]
    }
   ],
   "execution_count": 12
  },
  {
   "metadata": {},
   "cell_type": "markdown",
   "source": [
    "### Exploding the friends_name and friends_hobbies columns\n",
    "\n",
    "##### **explode** is used to explode the friends' names and hobbies arrays."
   ],
   "id": "a7ce3410aa1db0a1"
  },
  {
   "metadata": {
    "ExecuteTime": {
     "end_time": "2024-05-16T02:29:08.502103Z",
     "start_time": "2024-05-16T02:29:08.482708Z"
    }
   },
   "cell_type": "code",
   "source": [
    "explode_array_df = flatten_df.withColumn('friends_name', explode(col('friends_name'))).withColumn('friends_hobbies', explode(col('friends_hobbies')))\n",
    "explode_array_df.printSchema()"
   ],
   "id": "f944c9de0aab051c",
   "outputs": [
    {
     "name": "stdout",
     "output_type": "stream",
     "text": [
      "root\n",
      " |-- id: long (nullable = true)\n",
      " |-- name: string (nullable = true)\n",
      " |-- age: long (nullable = true)\n",
      " |-- city: string (nullable = true)\n",
      " |-- friends_name: string (nullable = false)\n",
      " |-- friends_hobbies: string (nullable = true)\n",
      "\n"
     ]
    }
   ],
   "execution_count": 13
  },
  {
   "metadata": {
    "ExecuteTime": {
     "end_time": "2024-05-16T02:29:09.677874Z",
     "start_time": "2024-05-16T02:29:09.516992Z"
    }
   },
   "cell_type": "code",
   "source": "explode_array_df.show(truncate=False, n=100)",
   "id": "96d018d6b39dc412",
   "outputs": [
    {
     "name": "stdout",
     "output_type": "stream",
     "text": [
      "+---+-------+---+---------+------------+---------------------+\n",
      "|id |name   |age|city     |friends_name|friends_hobbies      |\n",
      "+---+-------+---+---------+------------+---------------------+\n",
      "|6  |Lucas  |76 |Sydney   |John        |Genealogy            |\n",
      "|6  |Lucas  |76 |Sydney   |John        |Cooking              |\n",
      "|6  |Lucas  |76 |Sydney   |John        |Socializing          |\n",
      "|6  |Lucas  |76 |Sydney   |John        |Yoga                 |\n",
      "|1  |Noah   |97 |Melbourne|Robert      |Walking              |\n",
      "|1  |Noah   |97 |Melbourne|Robert      |Church Activities    |\n",
      "|1  |Noah   |97 |Melbourne|Robert      |Watching Sports      |\n",
      "|1  |Noah   |97 |Melbourne|Robert      |Skiing & Snowboarding|\n",
      "|1  |Noah   |97 |Melbourne|Robert      |Collecting           |\n",
      "|1  |Noah   |97 |Melbourne|Robert      |Martial Arts         |\n",
      "|1  |Noah   |97 |Melbourne|Robert      |Painting             |\n",
      "|1  |Noah   |97 |Melbourne|Robert      |Jewelry Making       |\n",
      "|1  |Noah   |97 |Melbourne|Robert      |Running              |\n",
      "|1  |Noah   |97 |Melbourne|Robert      |Music                |\n",
      "|1  |Noah   |97 |Melbourne|Robert      |Woodworking          |\n",
      "|1  |Noah   |97 |Melbourne|Robert      |Calligraphy          |\n",
      "|1  |Noah   |97 |Melbourne|Robert      |Genealogy            |\n",
      "|1  |Noah   |97 |Melbourne|Michael     |Walking              |\n",
      "|1  |Noah   |97 |Melbourne|Michael     |Church Activities    |\n",
      "|1  |Noah   |97 |Melbourne|Michael     |Watching Sports      |\n",
      "|1  |Noah   |97 |Melbourne|Michael     |Skiing & Snowboarding|\n",
      "|1  |Noah   |97 |Melbourne|Michael     |Collecting           |\n",
      "|1  |Noah   |97 |Melbourne|Michael     |Martial Arts         |\n",
      "|1  |Noah   |97 |Melbourne|Michael     |Painting             |\n",
      "|1  |Noah   |97 |Melbourne|Michael     |Jewelry Making       |\n",
      "|1  |Noah   |97 |Melbourne|Michael     |Running              |\n",
      "|1  |Noah   |97 |Melbourne|Michael     |Music                |\n",
      "|1  |Noah   |97 |Melbourne|Michael     |Woodworking          |\n",
      "|1  |Noah   |97 |Melbourne|Michael     |Calligraphy          |\n",
      "|1  |Noah   |97 |Melbourne|Michael     |Genealogy            |\n",
      "|1  |Noah   |97 |Melbourne|Ava         |Walking              |\n",
      "|1  |Noah   |97 |Melbourne|Ava         |Church Activities    |\n",
      "|1  |Noah   |97 |Melbourne|Ava         |Watching Sports      |\n",
      "|1  |Noah   |97 |Melbourne|Ava         |Skiing & Snowboarding|\n",
      "|1  |Noah   |97 |Melbourne|Ava         |Collecting           |\n",
      "|1  |Noah   |97 |Melbourne|Ava         |Martial Arts         |\n",
      "|1  |Noah   |97 |Melbourne|Ava         |Painting             |\n",
      "|1  |Noah   |97 |Melbourne|Ava         |Jewelry Making       |\n",
      "|1  |Noah   |97 |Melbourne|Ava         |Running              |\n",
      "|1  |Noah   |97 |Melbourne|Ava         |Music                |\n",
      "|1  |Noah   |97 |Melbourne|Ava         |Woodworking          |\n",
      "|1  |Noah   |97 |Melbourne|Ava         |Calligraphy          |\n",
      "|1  |Noah   |97 |Melbourne|Ava         |Genealogy            |\n",
      "|1  |Noah   |97 |Melbourne|Olivia      |Walking              |\n",
      "|1  |Noah   |97 |Melbourne|Olivia      |Church Activities    |\n",
      "|1  |Noah   |97 |Melbourne|Olivia      |Watching Sports      |\n",
      "|1  |Noah   |97 |Melbourne|Olivia      |Skiing & Snowboarding|\n",
      "|1  |Noah   |97 |Melbourne|Olivia      |Collecting           |\n",
      "|1  |Noah   |97 |Melbourne|Olivia      |Martial Arts         |\n",
      "|1  |Noah   |97 |Melbourne|Olivia      |Painting             |\n",
      "|1  |Noah   |97 |Melbourne|Olivia      |Jewelry Making       |\n",
      "|1  |Noah   |97 |Melbourne|Olivia      |Running              |\n",
      "|1  |Noah   |97 |Melbourne|Olivia      |Music                |\n",
      "|1  |Noah   |97 |Melbourne|Olivia      |Woodworking          |\n",
      "|1  |Noah   |97 |Melbourne|Olivia      |Calligraphy          |\n",
      "|1  |Noah   |97 |Melbourne|Olivia      |Genealogy            |\n",
      "|1  |Noah   |97 |Melbourne|Oliver      |Walking              |\n",
      "|1  |Noah   |97 |Melbourne|Oliver      |Church Activities    |\n",
      "|1  |Noah   |97 |Melbourne|Oliver      |Watching Sports      |\n",
      "|1  |Noah   |97 |Melbourne|Oliver      |Skiing & Snowboarding|\n",
      "|1  |Noah   |97 |Melbourne|Oliver      |Collecting           |\n",
      "|1  |Noah   |97 |Melbourne|Oliver      |Martial Arts         |\n",
      "|1  |Noah   |97 |Melbourne|Oliver      |Painting             |\n",
      "|1  |Noah   |97 |Melbourne|Oliver      |Jewelry Making       |\n",
      "|1  |Noah   |97 |Melbourne|Oliver      |Running              |\n",
      "|1  |Noah   |97 |Melbourne|Oliver      |Music                |\n",
      "|1  |Noah   |97 |Melbourne|Oliver      |Woodworking          |\n",
      "|1  |Noah   |97 |Melbourne|Oliver      |Calligraphy          |\n",
      "|1  |Noah   |97 |Melbourne|Oliver      |Genealogy            |\n",
      "|5  |Michael|19 |Brisbane |Jack        |Podcasts             |\n",
      "|5  |Michael|19 |Brisbane |Jack        |Jewelry Making       |\n",
      "|5  |Michael|19 |Brisbane |Jack        |Painting             |\n",
      "|5  |Michael|19 |Brisbane |Jack        |Television           |\n",
      "|5  |Michael|19 |Brisbane |Jack        |Walking              |\n",
      "|5  |Michael|19 |Brisbane |Jack        |Watching Sports      |\n",
      "|5  |Michael|19 |Brisbane |Jack        |Movie Watching       |\n",
      "|5  |Michael|19 |Brisbane |Jack        |Eating Out           |\n",
      "|5  |Michael|19 |Brisbane |Oliver      |Podcasts             |\n",
      "|5  |Michael|19 |Brisbane |Oliver      |Jewelry Making       |\n",
      "|5  |Michael|19 |Brisbane |Oliver      |Painting             |\n",
      "|5  |Michael|19 |Brisbane |Oliver      |Television           |\n",
      "|5  |Michael|19 |Brisbane |Oliver      |Walking              |\n",
      "|5  |Michael|19 |Brisbane |Oliver      |Watching Sports      |\n",
      "|5  |Michael|19 |Brisbane |Oliver      |Movie Watching       |\n",
      "|5  |Michael|19 |Brisbane |Oliver      |Eating Out           |\n",
      "|5  |Michael|19 |Brisbane |Elijah      |Podcasts             |\n",
      "|5  |Michael|19 |Brisbane |Elijah      |Jewelry Making       |\n",
      "|5  |Michael|19 |Brisbane |Elijah      |Painting             |\n",
      "|5  |Michael|19 |Brisbane |Elijah      |Television           |\n",
      "|5  |Michael|19 |Brisbane |Elijah      |Walking              |\n",
      "|5  |Michael|19 |Brisbane |Elijah      |Watching Sports      |\n",
      "|5  |Michael|19 |Brisbane |Elijah      |Movie Watching       |\n",
      "|5  |Michael|19 |Brisbane |Elijah      |Eating Out           |\n",
      "|5  |Michael|19 |Brisbane |Charlotte   |Podcasts             |\n",
      "|5  |Michael|19 |Brisbane |Charlotte   |Jewelry Making       |\n",
      "|5  |Michael|19 |Brisbane |Charlotte   |Painting             |\n",
      "|5  |Michael|19 |Brisbane |Charlotte   |Television           |\n",
      "|5  |Michael|19 |Brisbane |Charlotte   |Walking              |\n",
      "|5  |Michael|19 |Brisbane |Charlotte   |Watching Sports      |\n",
      "|5  |Michael|19 |Brisbane |Charlotte   |Movie Watching       |\n",
      "+---+-------+---+---------+------------+---------------------+\n",
      "only showing top 100 rows\n",
      "\n"
     ]
    }
   ],
   "execution_count": 14
  },
  {
   "metadata": {},
   "cell_type": "markdown",
   "source": "### Ordering the DataFrame by the id column",
   "id": "a73d360b17bb59be"
  },
  {
   "metadata": {
    "ExecuteTime": {
     "end_time": "2024-05-16T02:29:12.029297Z",
     "start_time": "2024-05-16T02:29:12.015155Z"
    }
   },
   "cell_type": "code",
   "source": [
    "oder_df = explode_array_df.orderBy('id', ascending=True)\n",
    "oder_df.printSchema()"
   ],
   "id": "a49fbb6c771a0d83",
   "outputs": [
    {
     "name": "stdout",
     "output_type": "stream",
     "text": [
      "root\n",
      " |-- id: long (nullable = true)\n",
      " |-- name: string (nullable = true)\n",
      " |-- age: long (nullable = true)\n",
      " |-- city: string (nullable = true)\n",
      " |-- friends_name: string (nullable = false)\n",
      " |-- friends_hobbies: string (nullable = true)\n",
      "\n"
     ]
    }
   ],
   "execution_count": 15
  },
  {
   "metadata": {
    "ExecuteTime": {
     "end_time": "2024-05-16T02:29:13.165539Z",
     "start_time": "2024-05-16T02:29:12.998061Z"
    }
   },
   "cell_type": "code",
   "source": "oder_df.show(truncate=False)",
   "id": "e9b6a19e127bc2c9",
   "outputs": [
    {
     "name": "stdout",
     "output_type": "stream",
     "text": [
      "+---+------+---+---------+------------+---------------------+\n",
      "|id |name  |age|city     |friends_name|friends_hobbies      |\n",
      "+---+------+---+---------+------------+---------------------+\n",
      "|0  |Elijah|78 |Sydney   |Robert      |Watching Sports      |\n",
      "|0  |Elijah|78 |Sydney   |Robert      |Reading              |\n",
      "|0  |Elijah|78 |Sydney   |Robert      |Skiing & Snowboarding|\n",
      "|0  |Elijah|78 |Sydney   |Robert      |Traveling            |\n",
      "|0  |Elijah|78 |Sydney   |Robert      |Video Games          |\n",
      "|0  |Elijah|78 |Sydney   |Michelle    |Watching Sports      |\n",
      "|0  |Elijah|78 |Sydney   |Michelle    |Reading              |\n",
      "|0  |Elijah|78 |Sydney   |Michelle    |Skiing & Snowboarding|\n",
      "|0  |Elijah|78 |Sydney   |Michelle    |Traveling            |\n",
      "|0  |Elijah|78 |Sydney   |Michelle    |Video Games          |\n",
      "|1  |Noah  |97 |Melbourne|Michael     |Collecting           |\n",
      "|1  |Noah  |97 |Melbourne|Ava         |Calligraphy          |\n",
      "|1  |Noah  |97 |Melbourne|Michael     |Martial Arts         |\n",
      "|1  |Noah  |97 |Melbourne|Michael     |Painting             |\n",
      "|1  |Noah  |97 |Melbourne|Michael     |Jewelry Making       |\n",
      "|1  |Noah  |97 |Melbourne|Robert      |Walking              |\n",
      "|1  |Noah  |97 |Melbourne|Michael     |Running              |\n",
      "|1  |Noah  |97 |Melbourne|Robert      |Watching Sports      |\n",
      "|1  |Noah  |97 |Melbourne|Michael     |Music                |\n",
      "|1  |Noah  |97 |Melbourne|Robert      |Collecting           |\n",
      "+---+------+---+---------+------------+---------------------+\n",
      "only showing top 20 rows\n",
      "\n"
     ]
    }
   ],
   "execution_count": 16
  },
  {
   "metadata": {},
   "cell_type": "markdown",
   "source": "### Converting the column names to uppercase",
   "id": "76bb0f602f80d6fc"
  },
  {
   "metadata": {
    "ExecuteTime": {
     "end_time": "2024-05-16T02:29:15.732466Z",
     "start_time": "2024-05-16T02:29:15.714996Z"
    }
   },
   "cell_type": "code",
   "source": [
    "uppercase_df = oder_df.select([col(c).alias(c.upper()) for c in oder_df.columns])\n",
    "uppercase_df.printSchema()"
   ],
   "id": "6eef0dc199ce723",
   "outputs": [
    {
     "name": "stdout",
     "output_type": "stream",
     "text": [
      "root\n",
      " |-- ID: long (nullable = true)\n",
      " |-- NAME: string (nullable = true)\n",
      " |-- AGE: long (nullable = true)\n",
      " |-- CITY: string (nullable = true)\n",
      " |-- FRIENDS_NAME: string (nullable = false)\n",
      " |-- FRIENDS_HOBBIES: string (nullable = true)\n",
      "\n"
     ]
    }
   ],
   "execution_count": 17
  },
  {
   "metadata": {
    "ExecuteTime": {
     "end_time": "2024-05-16T02:29:16.771994Z",
     "start_time": "2024-05-16T02:29:16.666614Z"
    }
   },
   "cell_type": "code",
   "source": "uppercase_df.show(truncate=False)",
   "id": "fe1553e0a9cbfa07",
   "outputs": [
    {
     "name": "stdout",
     "output_type": "stream",
     "text": [
      "+---+------+---+---------+------------+---------------------+\n",
      "|ID |NAME  |AGE|CITY     |FRIENDS_NAME|FRIENDS_HOBBIES      |\n",
      "+---+------+---+---------+------------+---------------------+\n",
      "|0  |Elijah|78 |Sydney   |Robert      |Watching Sports      |\n",
      "|0  |Elijah|78 |Sydney   |Robert      |Reading              |\n",
      "|0  |Elijah|78 |Sydney   |Robert      |Skiing & Snowboarding|\n",
      "|0  |Elijah|78 |Sydney   |Robert      |Traveling            |\n",
      "|0  |Elijah|78 |Sydney   |Robert      |Video Games          |\n",
      "|0  |Elijah|78 |Sydney   |Michelle    |Watching Sports      |\n",
      "|0  |Elijah|78 |Sydney   |Michelle    |Reading              |\n",
      "|0  |Elijah|78 |Sydney   |Michelle    |Skiing & Snowboarding|\n",
      "|0  |Elijah|78 |Sydney   |Michelle    |Traveling            |\n",
      "|0  |Elijah|78 |Sydney   |Michelle    |Video Games          |\n",
      "|1  |Noah  |97 |Melbourne|Michael     |Collecting           |\n",
      "|1  |Noah  |97 |Melbourne|Ava         |Calligraphy          |\n",
      "|1  |Noah  |97 |Melbourne|Michael     |Martial Arts         |\n",
      "|1  |Noah  |97 |Melbourne|Michael     |Painting             |\n",
      "|1  |Noah  |97 |Melbourne|Michael     |Jewelry Making       |\n",
      "|1  |Noah  |97 |Melbourne|Robert      |Walking              |\n",
      "|1  |Noah  |97 |Melbourne|Michael     |Running              |\n",
      "|1  |Noah  |97 |Melbourne|Robert      |Watching Sports      |\n",
      "|1  |Noah  |97 |Melbourne|Michael     |Music                |\n",
      "|1  |Noah  |97 |Melbourne|Robert      |Collecting           |\n",
      "+---+------+---+---------+------------+---------------------+\n",
      "only showing top 20 rows\n",
      "\n"
     ]
    }
   ],
   "execution_count": 18
  },
  {
   "metadata": {},
   "cell_type": "markdown",
   "source": "### Writing the DataFrame to a Parquet file",
   "id": "c98bd204ba82722e"
  },
  {
   "metadata": {
    "ExecuteTime": {
     "end_time": "2024-05-16T02:29:19.771177Z",
     "start_time": "2024-05-16T02:29:18.950663Z"
    }
   },
   "cell_type": "code",
   "source": "uppercase_df.write.parquet(OUTPUT_FILE)",
   "id": "5d32db714203244e",
   "outputs": [
    {
     "name": "stderr",
     "output_type": "stream",
     "text": [
      "                                                                                \r"
     ]
    }
   ],
   "execution_count": 19
  },
  {
   "metadata": {},
   "cell_type": "markdown",
   "source": "### Reading the Parquet file",
   "id": "9cc928623f479409"
  },
  {
   "metadata": {
    "ExecuteTime": {
     "end_time": "2024-05-16T02:29:21.655654Z",
     "start_time": "2024-05-16T02:29:21.534302Z"
    }
   },
   "cell_type": "code",
   "source": [
    "read_parquet_df = spark.read.parquet(OUTPUT_FILE)\n",
    "read_parquet_df.printSchema()"
   ],
   "id": "f8ed2044fe38e910",
   "outputs": [
    {
     "name": "stdout",
     "output_type": "stream",
     "text": [
      "root\n",
      " |-- ID: long (nullable = true)\n",
      " |-- NAME: string (nullable = true)\n",
      " |-- AGE: long (nullable = true)\n",
      " |-- CITY: string (nullable = true)\n",
      " |-- FRIENDS_NAME: string (nullable = true)\n",
      " |-- FRIENDS_HOBBIES: string (nullable = true)\n",
      "\n"
     ]
    }
   ],
   "execution_count": 20
  },
  {
   "metadata": {
    "ExecuteTime": {
     "end_time": "2024-05-16T02:29:22.597595Z",
     "start_time": "2024-05-16T02:29:22.510525Z"
    }
   },
   "cell_type": "code",
   "source": "read_parquet_df.show(truncate=False)",
   "id": "80ddb61281085e8f",
   "outputs": [
    {
     "name": "stdout",
     "output_type": "stream",
     "text": [
      "+---+------+---+---------+------------+---------------------+\n",
      "|ID |NAME  |AGE|CITY     |FRIENDS_NAME|FRIENDS_HOBBIES      |\n",
      "+---+------+---+---------+------------+---------------------+\n",
      "|0  |Elijah|78 |Sydney   |Robert      |Watching Sports      |\n",
      "|0  |Elijah|78 |Sydney   |Robert      |Reading              |\n",
      "|0  |Elijah|78 |Sydney   |Robert      |Skiing & Snowboarding|\n",
      "|0  |Elijah|78 |Sydney   |Robert      |Traveling            |\n",
      "|0  |Elijah|78 |Sydney   |Robert      |Video Games          |\n",
      "|0  |Elijah|78 |Sydney   |Michelle    |Watching Sports      |\n",
      "|0  |Elijah|78 |Sydney   |Michelle    |Reading              |\n",
      "|0  |Elijah|78 |Sydney   |Michelle    |Skiing & Snowboarding|\n",
      "|0  |Elijah|78 |Sydney   |Michelle    |Traveling            |\n",
      "|0  |Elijah|78 |Sydney   |Michelle    |Video Games          |\n",
      "|1  |Noah  |97 |Melbourne|Robert      |Walking              |\n",
      "|1  |Noah  |97 |Melbourne|Robert      |Church Activities    |\n",
      "|1  |Noah  |97 |Melbourne|Robert      |Watching Sports      |\n",
      "|1  |Noah  |97 |Melbourne|Robert      |Skiing & Snowboarding|\n",
      "|1  |Noah  |97 |Melbourne|Robert      |Collecting           |\n",
      "|1  |Noah  |97 |Melbourne|Robert      |Martial Arts         |\n",
      "|1  |Noah  |97 |Melbourne|Robert      |Painting             |\n",
      "|1  |Noah  |97 |Melbourne|Robert      |Jewelry Making       |\n",
      "|1  |Noah  |97 |Melbourne|Robert      |Running              |\n",
      "|1  |Noah  |97 |Melbourne|Robert      |Music                |\n",
      "+---+------+---+---------+------------+---------------------+\n",
      "only showing top 20 rows\n",
      "\n"
     ]
    }
   ],
   "execution_count": 21
  },
  {
   "metadata": {},
   "cell_type": "code",
   "outputs": [],
   "execution_count": null,
   "source": "",
   "id": "aa4438a00767b59a"
  }
 ],
 "metadata": {
  "kernelspec": {
   "display_name": "Python 3",
   "language": "python",
   "name": "python3"
  },
  "language_info": {
   "codemirror_mode": {
    "name": "ipython",
    "version": 2
   },
   "file_extension": ".py",
   "mimetype": "text/x-python",
   "name": "python",
   "nbconvert_exporter": "python",
   "pygments_lexer": "ipython2",
   "version": "2.7.6"
  }
 },
 "nbformat": 4,
 "nbformat_minor": 5
}
